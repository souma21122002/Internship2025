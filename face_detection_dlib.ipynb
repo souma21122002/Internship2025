{
  "nbformat": 4,
  "nbformat_minor": 0,
  "metadata": {
    "colab": {
      "provenance": [],
      "gpuType": "T4",
      "mount_file_id": "1DL7pWxDnJuNx09CMQHWnMOL0-bLBc42f",
      "authorship_tag": "ABX9TyMwZsyH/VhgnTOJFGDUxeAM",
      "include_colab_link": true
    },
    "kernelspec": {
      "name": "python3",
      "display_name": "Python 3"
    },
    "language_info": {
      "name": "python"
    },
    "accelerator": "GPU"
  },
  "cells": [
    {
      "cell_type": "markdown",
      "metadata": {
        "id": "view-in-github",
        "colab_type": "text"
      },
      "source": [
        "<a href=\"https://colab.research.google.com/github/souma21122002/Internship2025/blob/main/face_detection_dlib.ipynb\" target=\"_parent\"><img src=\"https://colab.research.google.com/assets/colab-badge.svg\" alt=\"Open In Colab\"/></a>"
      ]
    },
    {
      "cell_type": "code",
      "execution_count": null,
      "metadata": {
        "colab": {
          "base_uri": "https://localhost:8080/"
        },
        "id": "zsCaaGCk5w31",
        "outputId": "72dd1626-3d64-4d28-b03a-9c996d309daf"
      },
      "outputs": [
        {
          "output_type": "stream",
          "name": "stdout",
          "text": [
            "Processing video: 1.mp4\n",
            "Finished processing: 1.mp4\n",
            "→ Cropped faces: /content/drive/MyDrive/ML/detected_faces/1\n",
            "→ Real frames with faces: /content/drive/MyDrive/ML/real_frames/1\n",
            "Processing video: 2.mp4\n",
            "Finished processing: 2.mp4\n",
            "→ Cropped faces: /content/drive/MyDrive/ML/detected_faces/2\n",
            "→ Real frames with faces: /content/drive/MyDrive/ML/real_frames/2\n"
          ]
        }
      ],
      "source": [
        "from IPython import get_ipython\n",
        "from IPython.display import display\n",
        "# %%\n",
        "import cv2\n",
        "import dlib\n",
        "import os\n",
        "# %%\n",
        "from google.colab.patches import cv2_imshow\n",
        "\n",
        "# %%\n",
        "input_folder = '/content/drive/MyDrive/ML/videos/'\n",
        "cropped_faces_folder = '/content/drive/MyDrive/ML/detected_faces/'\n",
        "original_frames_folder = '/content/drive/MyDrive/ML/real_frames/'\n",
        "\n",
        "# Create output directories if they don't exist\n",
        "os.makedirs(cropped_faces_folder, exist_ok=True)\n",
        "os.makedirs(original_frames_folder, exist_ok=True)\n",
        "\n",
        "# %%\n",
        "detector = dlib.get_frontal_face_detector()  # HOG-based\n",
        "\n",
        "# %%\n",
        "# Iterate through all files in the input folder\n",
        "for video_file in os.listdir(input_folder):\n",
        "    video_path = os.path.join(input_folder, video_file)\n",
        "\n",
        "    if video_path.lower().endswith(('.mp4', '.avi', '.mov', '.mkv')):\n",
        "        print(f\"Processing video: {video_file}\")\n",
        "\n",
        "        base_name = os.path.splitext(video_file)[0]\n",
        "\n",
        "        # Create subfolders for each video\n",
        "        video_cropped_folder = os.path.join(cropped_faces_folder, base_name)\n",
        "        video_real_frame_folder = os.path.join(original_frames_folder, base_name)\n",
        "        os.makedirs(video_cropped_folder, exist_ok=True)\n",
        "        os.makedirs(video_real_frame_folder, exist_ok=True)\n",
        "\n",
        "        cap = cv2.VideoCapture(video_path)\n",
        "        frame_count = 0\n",
        "\n",
        "        while cap.isOpened():\n",
        "            ret, frame = cap.read()\n",
        "            if not ret:\n",
        "                break\n",
        "\n",
        "            frame_count += 1\n",
        "            gray = cv2.cvtColor(frame, cv2.COLOR_BGR2GRAY)\n",
        "            faces = detector(gray)\n",
        "\n",
        "            if len(faces) > 0:\n",
        "                # Save full original frame (unaltered)\n",
        "                real_frame_filename = f\"{base_name}_frame_{frame_count:06d}.jpg\"\n",
        "                real_frame_path = os.path.join(video_real_frame_folder, real_frame_filename)\n",
        "                cv2.imwrite(real_frame_path, frame)\n",
        "\n",
        "                # Optionally also save cropped faces (still included)\n",
        "                for face in faces:\n",
        "                    x1 = face.left()\n",
        "                    y1 = face.top()\n",
        "                    x2 = face.right()\n",
        "                    y2 = face.bottom()\n",
        "\n",
        "                    cropped_face = frame[max(0, y1):min(frame.shape[0], y2), max(0, x1):min(frame.shape[1], x2)]\n",
        "\n",
        "                    if cropped_face.shape[0] > 0 and cropped_face.shape[1] > 0:\n",
        "                        cropped_filename = f\"{base_name}_frame_{frame_count:06d}_face.jpg\"\n",
        "                        cropped_path = os.path.join(video_cropped_folder, cropped_filename)\n",
        "                        cv2.imwrite(cropped_path, cropped_face)\n",
        "\n",
        "        cap.release()\n",
        "        print(f\"Finished processing: {video_file}\")\n",
        "        print(f\"→ Cropped faces: {video_cropped_folder}\")\n",
        "        print(f\"→ Real frames with faces: {video_real_frame_folder}\")\n",
        "\n",
        "cv2.destroyAllWindows()\n"
      ]
    },
    {
      "cell_type": "code",
      "source": [],
      "metadata": {
        "id": "8mI0Ctwd6Yne"
      },
      "execution_count": null,
      "outputs": []
    }
  ]
}